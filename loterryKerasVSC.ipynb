{
 "cells": [
  {
   "cell_type": "code",
   "execution_count": null,
   "metadata": {},
   "outputs": [],
   "source": [
    "import pandas as pd\n",
    "import numpy as np\n",
    "from sklearn.preprocessing import StandardScaler\n",
    "from keras.models import Sequential\n",
    "from keras.layers import LSTM, Dense, Bidirectional, Dropout\n",
    "from tensorflow.keras.optimizers import Adam\n",
    "\n",
    "# Check file existence\n",
    "filename = 'Libro1KNVS.xlsx'\n",
    "# Read data from Excel\n",
    "datosDF = pd.read_excel(filename)\n",
    "df = pd.DataFrame(datosDF)"
   ]
  },
  {
   "cell_type": "code",
   "execution_count": null,
   "metadata": {},
   "outputs": [],
   "source": [
    "ss = StandardScaler()\n",
    "scaler = ss.fit(df.values)\n",
    "transformed_dataset = scaler.transform(df.values)\n",
    "transformed_df = pd.DataFrame(data=transformed_dataset, index=df.index)"
   ]
  },
  {
   "cell_type": "code",
   "execution_count": null,
   "metadata": {},
   "outputs": [],
   "source": [
    "numbers_of_rows = datosDF.values.shape[0]\n",
    "window_length = 14\n",
    "number_of_features = datosDF.values.shape[1]\n",
    "train = np.empty([numbers_of_rows-window_length, window_length, number_of_features], dtype=float)\n",
    "label = np.empty([numbers_of_rows-window_length, number_of_features], dtype=float)\n",
    "\n",
    "for i in range(0, numbers_of_rows-window_length):\n",
    "    train[i] = transformed_df.iloc[i+window_length, 0:number_of_features]\n",
    "    label[i] = transformed_df.iloc[i+window_length: i+window_length+1, 0:number_of_features]"
   ]
  },
  {
   "cell_type": "code",
   "execution_count": null,
   "metadata": {},
   "outputs": [],
   "source": [
    "model = Sequential()\n",
    "model.add(Bidirectional(LSTM(240, input_shape=(window_length, number_of_features), return_sequences=True)))\n",
    "model.add(Dropout(0.2))\n",
    "model.add(Bidirectional(LSTM(240, input_shape=(window_length, number_of_features), return_sequences=True)))\n",
    "model.add(Dropout(0.2))\n",
    "model.add(Bidirectional(LSTM(240, input_shape=(window_length, number_of_features), return_sequences=True)))\n",
    "model.add(Bidirectional(LSTM(240, input_shape=(window_length, number_of_features), return_sequences=False)))\n",
    "model.add(Dense(59))\n",
    "model.add(Dense(number_of_features))"
   ]
  },
  {
   "cell_type": "code",
   "execution_count": null,
   "metadata": {},
   "outputs": [],
   "source": [
    "model.compile(loss='mse', optimizer=Adam(learning_rate=0.0001), metrics=['accuracy'])"
   ]
  },
  {
   "cell_type": "code",
   "execution_count": null,
   "metadata": {},
   "outputs": [],
   "source": [
    "# Train the model\n",
    "model.fit(train, label, epochs=100, batch_size=32, verbose=1)\n",
    "\n",
    "# Prepare data for prediction\n",
    "to_predict_1 = df.tail(100)\n",
    "to_predict_1.drop([to_predict_1.index[-1]], axis=0, inplace=True)\n",
    "to_predict_1 = np.array(to_predict_1)\n",
    "scales_to_predict = scaler.transform(to_predict_1)\n"
   ]
  },
  {
   "cell_type": "code",
   "execution_count": null,
   "metadata": {},
   "outputs": [],
   "source": [
    "# Obtain the precision of the model\n",
    "accuracy = model.evaluate(train, label)\n",
    "print('Accuracy: %.2f' % (accuracy[1]*100))\n",
    "\n",
    "scaled_predicted_output = model.predict(np.array([scales_to_predict]))\n",
    "predicted_output = scaler.inverse_transform(scaled_predicted_output).astype(int)[0]\n",
    "print(predicted_output)"
   ]
  }
 ],
 "metadata": {
  "language_info": {
   "name": "python"
  },
  "orig_nbformat": 4
 },
 "nbformat": 4,
 "nbformat_minor": 2
}
